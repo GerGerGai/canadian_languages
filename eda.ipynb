{
 "cells": [
  {
   "cell_type": "code",
   "execution_count": 1,
   "id": "66f44ac7-25ec-4980-8567-eff3bbf9536c",
   "metadata": {},
   "outputs": [
    {
     "name": "stdout",
     "output_type": "stream",
     "text": [
      "[1] \"what's going on man?\"\n"
     ]
    }
   ],
   "source": [
    "print(\"what's going on man?\")"
   ]
  },
  {
   "cell_type": "code",
   "execution_count": null,
   "id": "6b0cbfd0-db07-42cc-afe5-a85b273d62ad",
   "metadata": {},
   "outputs": [],
   "source": []
  }
 ],
 "metadata": {
  "kernelspec": {
   "display_name": "R",
   "language": "R",
   "name": "ir"
  },
  "language_info": {
   "codemirror_mode": "r",
   "file_extension": ".r",
   "mimetype": "text/x-r-source",
   "name": "R",
   "pygments_lexer": "r",
   "version": "4.1.3"
  }
 },
 "nbformat": 4,
 "nbformat_minor": 5
}
